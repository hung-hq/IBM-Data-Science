{
 "cells": [
  {
   "cell_type": "markdown",
   "id": "eb84eea2",
   "metadata": {
    "id": "eb84eea2"
   },
   "source": [
    "# Data Science Tools and Ecosystem"
   ]
  },
  {
   "cell_type": "markdown",
   "id": "895fc076",
   "metadata": {
    "id": "895fc076"
   },
   "source": [
    "In this notebook, Data Science Tools and Ecosystem are summarized."
   ]
  },
  {
   "cell_type": "markdown",
   "id": "0a2f064c",
   "metadata": {
    "id": "0a2f064c"
   },
   "source": [
    "Some of the popular languages that Data Scientists use are:\n",
    "1. Python  \n",
    "2. R  \n",
    "3. SQL  \n",
    "4. Julia"
   ]
  },
  {
   "cell_type": "markdown",
   "id": "0e2bd4aa",
   "metadata": {
    "id": "0e2bd4aa"
   },
   "source": [
    "Some of the commonly used libraries used by Data Scientists include:\n",
    "1. Pandas  \n",
    "2. NumPy  \n",
    "3. Matplotlib  \n",
    "4. Scikit-learn"
   ]
  },
  {
   "cell_type": "markdown",
   "id": "b2692729",
   "metadata": {
    "id": "b2692729"
   },
   "source": [
    "| Data Science Tools |\n",
    "|--------------------|\n",
    "| Jupyter Notebook   |\n",
    "| RStudio            |\n",
    "| Apache Zeppelin    |"
   ]
  },
  {
   "cell_type": "markdown",
   "id": "bbd8a695",
   "metadata": {
    "id": "bbd8a695"
   },
   "source": [
    "### Below are a few examples of evaluating arithmetic expressions in Python."
   ]
  },
  {
   "cell_type": "code",
   "execution_count": 4,
   "id": "fbf77aca",
   "metadata": {
    "id": "fbf77aca"
   },
   "outputs": [
    {
     "data": {
      "text/plain": [
       "17"
      ]
     },
     "execution_count": 4,
     "metadata": {},
     "output_type": "execute_result"
    }
   ],
   "source": [
    "# This a simple arithmetic expression to multiply then add integers\n",
    "(3*4)+5"
   ]
  },
  {
   "cell_type": "code",
   "execution_count": 5,
   "id": "cf3f3e4f",
   "metadata": {
    "id": "cf3f3e4f"
   },
   "outputs": [
    {
     "data": {
      "text/plain": [
       "3.3333333333333335"
      ]
     },
     "execution_count": 5,
     "metadata": {},
     "output_type": "execute_result"
    }
   ],
   "source": [
    "# This will convert 200 minutes to hours by dividing by 60\n",
    "200 / 60"
   ]
  },
  {
   "cell_type": "markdown",
   "id": "f9c8b37b",
   "metadata": {
    "id": "f9c8b37b"
   },
   "source": [
    "**Objectives:**\n",
    "- List popular languages for Data Science  \n",
    "- List commonly used libraries for Data Science  \n",
    "- Create and execute basic arithmetic expressions in Python  \n",
    "- Create tables and lists using Markdown in Jupyter  \n",
    "- Convert time units using Python"
   ]
  },
  {
   "cell_type": "markdown",
   "id": "83e539f8",
   "metadata": {
    "id": "83e539f8"
   },
   "source": [
    "## Author\n",
    "Hung Hoang Quoc"
   ]
  },
  {
   "cell_type": "code",
   "execution_count": null,
   "id": "3376429e-9a71-426e-a319-476bc40d82c8",
   "metadata": {},
   "outputs": [],
   "source": []
  }
 ],
 "metadata": {
  "colab": {
   "provenance": []
  },
  "kernelspec": {
   "display_name": "Python 3 (ipykernel)",
   "language": "python",
   "name": "python3"
  },
  "language_info": {
   "codemirror_mode": {
    "name": "ipython",
    "version": 3
   },
   "file_extension": ".py",
   "mimetype": "text/x-python",
   "name": "python",
   "nbconvert_exporter": "python",
   "pygments_lexer": "ipython3",
   "version": "3.12.8"
  }
 },
 "nbformat": 4,
 "nbformat_minor": 5
}
